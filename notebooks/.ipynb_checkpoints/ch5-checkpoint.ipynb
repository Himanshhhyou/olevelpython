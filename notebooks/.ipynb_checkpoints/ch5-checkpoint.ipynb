{
 "cells": [
  {
   "cell_type": "markdown",
   "id": "b3e97490-61ec-4de4-bb47-909d5579c1c4",
   "metadata": {},
   "source": [
    "#Table of contents"
   ]
  },
  {
   "cell_type": "markdown",
   "id": "1d9f90c8-2358-4edc-9629-c349e4c03562",
   "metadata": {},
   "source": [
    "## List"
   ]
  },
  {
   "cell_type": "code",
   "execution_count": null,
   "id": "ab1a8c5a-a444-491a-9d37-76e1f03d63b9",
   "metadata": {},
   "outputs": [],
   "source": [
    "- Store multiple values\n",
    "- Ordered\n",
    "- Indexing Possible"
   ]
  },
  {
   "cell_type": "markdown",
   "id": "b833805d-532b-4a07-9ea2-b5164f2c6541",
   "metadata": {},
   "source": [
    "**Immutable -int, float, bool, string**\n"
   ]
  },
  {
   "cell_type": "code",
   "execution_count": 14,
   "id": "4f7a8fb3-2935-4a73-bf80-13c1dfaccf92",
   "metadata": {},
   "outputs": [
    {
     "name": "stdout",
     "output_type": "stream",
     "text": [
      "2463988917488\n",
      "chalo\n",
      "2463990458880\n"
     ]
    }
   ],
   "source": [
    "a = \"Hello\"\n",
    "print(id(a),id(a))\n",
    "\n",
    "a = \"chalo\"\n",
    "print(a,id(a))\n",
    "\n",
    "a = \"world\"\n",
    "print(a,(id(a))"
   ]
  }
 ],
 "metadata": {
  "kernelspec": {
   "display_name": "Python 3 (ipykernel)",
   "language": "python",
   "name": "python3"
  },
  "language_info": {
   "codemirror_mode": {
    "name": "ipython",
    "version": 3
   },
   "file_extension": ".py",
   "mimetype": "text/x-python",
   "name": "python",
   "nbconvert_exporter": "python",
   "pygments_lexer": "ipython3",
   "version": "3.14.0"
  }
 },
 "nbformat": 4,
 "nbformat_minor": 5
}
