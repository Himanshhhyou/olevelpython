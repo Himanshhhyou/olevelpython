{
 "cells": [
  {
   "cell_type": "markdown",
   "id": "124b2949",
   "metadata": {},
   "source": [
    "[Back to Home](hpps://www.olevel-python.netlify.app)\n"
   ]
  },
  {
   "cell_type": "markdown",
   "id": "a511791e-000a-40ac-8026-a5b01c4ba343",
   "metadata": {},
   "source": [
    "<h2 style=\"color: red;\">Table of Content</h2>\n",
    "\n",
    "1. **[+,*,/ operator for string type](#+-operator-for-string-type)**\n",
    "3. **[Relational Operator or comparison operator](#Relational-Operator-or-comparison-operator)**\n",
    "4. **[A program to check given is name is valid or not](#A-program-to-check-given-is-name-is-valid-or-not)**\n",
    "5. **[Tricky Questions](#tricky-questions)**\n",
    "6. **[Relational operators chaining](#Relational-operators-chaining)**\n",
    "7. **[Equality Operator](#Equality-Operator)**\n",
    "8. **[== and is operator](#==-and-is-operator)**\n",
    "9. **[Assignment operator](#Assignment-operator)**\n",
    "10. **[Logical operator](#Logical-operator)**\n",
    "10. **[Bitwise operator](#Bitwise-Operator)**\n",
    "\n",
    "<hr>"
   ]
  },
  {
   "cell_type": "markdown",
   "id": "0c8daae4-ed56-469a-a37e-f5d826d11aa8",
   "metadata": {},
   "source": [
    "## + operator for string type"
   ]
  },
  {
   "cell_type": "code",
   "execution_count": 6,
   "id": "e993298c-56d3-48e5-b328-b6a3f21ab128",
   "metadata": {},
   "outputs": [
    {
     "name": "stdout",
     "output_type": "stream",
     "text": [
      "10\n",
      "37\n",
      "10\n",
      "37\n"
     ]
    }
   ],
   "source": [
    "print(3+7)\n",
    "#print(3+\"7\") #error\n",
    "print(str(3) + \"7\")\n",
    "\n",
    "print(3 + int(\"7\"))\n",
    "print(\"3\" + \"7\")"
   ]
  },
  {
   "cell_type": "markdown",
   "id": "beac36de-e730-43b1-b85d-f81a3aae384e",
   "metadata": {},
   "source": [
    "## * operator for string type"
   ]
  },
  {
   "cell_type": "code",
   "execution_count": 7,
   "id": "e2af8ec1-ec53-4c05-a6bc-77a04f5ccbf5",
   "metadata": {},
   "outputs": [
    {
     "name": "stdout",
     "output_type": "stream",
     "text": [
      "15\n",
      "555\n",
      "33333\n",
      "------\n",
      "0\n",
      "\n",
      "False\n"
     ]
    }
   ],
   "source": [
    "print(3*5)\n",
    "print(3*\"5\")\n",
    "print(\"3\"*5)\n",
    "#print(\"3\"*\"5\") #error\n",
    "print(\"------\")\n",
    "print(True*False)\n",
    "print(\"True\"*False)\n",
    "print(True*\"False\")\n",
    "#print(\"True\"*\"False\")#error"
   ]
  },
  {
   "cell_type": "markdown",
   "id": "9183b4bc-d7d2-4d21-8bec-172728c9e6c0",
   "metadata": {},
   "source": [
    "## / Operator for arithmatic operation"
   ]
  },
  {
   "cell_type": "code",
   "execution_count": 8,
   "id": "adbcd5e1-d3f3-46d4-b098-ccdddaf4841e",
   "metadata": {},
   "outputs": [
    {
     "name": "stdout",
     "output_type": "stream",
     "text": [
      "0.0\n",
      "1\n",
      "2\n"
     ]
    }
   ],
   "source": [
    "#print(3/0)#zeroDivisionError\n",
    "print(0/3)\n",
    "#print(\"3\"/0)\n",
    "#print(0/\"apple\")\n",
    "\n",
    "print(5//3) \n",
    "print(5%3)\n"
   ]
  },
  {
   "cell_type": "markdown",
   "id": "deb96eb5-23c2-456e-bdd8-79ea9f6ef9d0",
   "metadata": {},
   "source": [
    "# Relational Operator or comparison operator"
   ]
  },
  {
   "cell_type": "code",
   "execution_count": 9,
   "id": "e13df004-164d-4a21-85aa-2c56bbce268f",
   "metadata": {},
   "outputs": [
    {
     "name": "stdout",
     "output_type": "stream",
     "text": [
      "a==b ---> False\n",
      "a!=b ---> True\n",
      "a>b ---> False\n",
      "a>=b ---> False\n",
      "a<b ---> True\n",
      "a<=b ---> True\n"
     ]
    }
   ],
   "source": [
    "a = 5\n",
    "b = 9\n",
    "print(f\"a==b ---> {a==b}\")\n",
    "print(f\"a!=b ---> {a!=b}\")\n",
    "print(f\"a>b ---> {a>b}\")\n",
    "print(f\"a>=b ---> {a>=b}\")\n",
    "print(f\"a<b ---> {a<b}\")\n",
    "print(f\"a<=b ---> {a<=b}\")"
   ]
  },
  {
   "cell_type": "markdown",
   "id": "870b9f02-9ed8-44fa-9c54-6336339a779c",
   "metadata": {},
   "source": [
    "<hr>\n",
    "\n",
    "## A program to check given is name is valid or not"
   ]
  },
  {
   "cell_type": "markdown",
   "id": "e28218cb-6812-4865-ac1c-abb2f45a3d8d",
   "metadata": {},
   "source": [
    "**ASCII Value**<br>\n",
    "\n",
    "a-z = 97-122 <br>\n",
    "A-Z = 65-90 <br>\n",
    "space  = 32"
   ]
  },
  {
   "cell_type": "code",
   "execution_count": null,
   "id": "f5a0cb46-40b2-426e-8d1a-5724b6772f4a",
   "metadata": {},
   "outputs": [],
   "source": [
    "name = input(\"Enter your name: \")\n",
    "isValid = False\n",
    "for i in name:\n",
    "    if ord(i)>=97 and ord(i)<=122:\n",
    "        isValid = True\n",
    "    elif ord(i)>=65 and ord(i)<=90:\n",
    "        isValid = True\n",
    "    elif ord(i)==32:\n",
    "        isValid = True\n",
    "    else:\n",
    "        isValid = False\n",
    "if isValid == True:\n",
    "    print(\"Name is acceptable\")\n",
    "else:\n",
    "    print(\"Name is not acceptable\")\n",
    "        "
   ]
  },
  {
   "cell_type": "markdown",
   "id": "27018678-810a-4ad8-b6a4-0b19b0db7a50",
   "metadata": {},
   "source": [
    "## Tricky Questions"
   ]
  },
  {
   "cell_type": "markdown",
   "id": "ee956768-a0d8-4d48-8981-b9a86c57265e",
   "metadata": {},
   "source": [
    "**Primitive**\n",
    "Immutable - can not change once assign value\n",
    "\n",
    "**Non Primitive**\n",
    "mutable - can change"
   ]
  },
  {
   "cell_type": "markdown",
   "id": "f5d8a47e-0ba1-4004-bff9-dd672b86de69",
   "metadata": {},
   "source": [
    "### Question 1"
   ]
  },
  {
   "cell_type": "code",
   "execution_count": 7,
   "id": "8311b492-a87d-4794-8b12-b63d1f3c7af2",
   "metadata": {},
   "outputs": [
    {
     "name": "stdout",
     "output_type": "stream",
     "text": [
      "20\n",
      "30\n",
      "{'name': 'Piyush', 'age': 40}\n",
      "{'name': 'Piyush', 'age': 40}\n",
      "{'name': 'Piyush', 'age': 40}\n"
     ]
    }
   ],
   "source": [
    "a = 20\n",
    "b = a #20\n",
    "b = 30 \n",
    "print(a)\n",
    "print(b)"
   ]
  },
  {
   "cell_type": "markdown",
   "id": "ff48bb8e-f02f-4f79-b7ec-b15395bb7cd1",
   "metadata": {},
   "source": [
    "### Question 2"
   ]
  },
  {
   "cell_type": "code",
   "execution_count": null,
   "id": "834c250f-f74d-4b09-9544-e9a3b2ccee0b",
   "metadata": {},
   "outputs": [],
   "source": [
    "person1 = {\n",
    "    \"name\": \"Ram\",\n",
    "    \"age\" : 21\n",
    "}\n",
    "person2 = person1\n",
    "person2[\"name\"] = \"Piyush\"\n",
    "\n",
    "person3 = person1\n",
    "person3[\"age\"]= 40\n",
    "\n",
    "print(person1)\n",
    "print(person2)\n",
    "print(person3)"
   ]
  },
  {
   "cell_type": "markdown",
   "id": "544d84d7-fadd-4886-8821-b0c6437542c5",
   "metadata": {},
   "source": [
    "### Question 3"
   ]
  },
  {
   "cell_type": "code",
   "execution_count": 15,
   "id": "c82b3fc2-9561-4510-9d88-f43fff6b895b",
   "metadata": {},
   "outputs": [
    {
     "name": "stdout",
     "output_type": "stream",
     "text": [
      "True\n",
      "False\n"
     ]
    }
   ],
   "source": [
    "a = 0.25\n",
    "b = 0.25\n",
    "print(a+b == 0.5)\n",
    "\n",
    "c = 0.2\n",
    "d = 0.1\n",
    "print(c+d == 0.3)"
   ]
  },
  {
   "cell_type": "markdown",
   "id": "ad12a7c8-d550-471f-82bb-cc97c48577dd",
   "metadata": {},
   "source": [
    "## Relational operators chaining"
   ]
  },
  {
   "cell_type": "code",
   "execution_count": 8,
   "id": "689e0681-6074-4480-9106-ff6e7df05f3e",
   "metadata": {},
   "outputs": [
    {
     "name": "stdout",
     "output_type": "stream",
     "text": [
      "False\n",
      "True\n",
      "False\n"
     ]
    }
   ],
   "source": [
    "a = 8\n",
    "b = 4\n",
    "c = 2\n",
    "d = 3\n",
    "print(a<b<c<d) \n",
    "print(a>b>c<d)\n",
    "#8>4>2<3\n",
    "#true true true\n",
    "print(b<d>a<c)\n",
    "#4<3>8<2\n",
    "#false false false"
   ]
  },
  {
   "cell_type": "markdown",
   "id": "25cf07c4-e0f1-483b-a277-02b7d1107ff1",
   "metadata": {},
   "source": [
    "## Equality Operator"
   ]
  },
  {
   "cell_type": "markdown",
   "id": "882de564-8dc0-41d3-8bc6-4b16aa9e1ee1",
   "metadata": {},
   "source": [
    "== checks value and data type both "
   ]
  },
  {
   "cell_type": "code",
   "execution_count": 10,
   "id": "a71a37e8-6eca-41ad-b0e1-8dbb8e913ad7",
   "metadata": {},
   "outputs": [
    {
     "name": "stdout",
     "output_type": "stream",
     "text": [
      "False\n",
      "False\n",
      "True\n",
      "True\n",
      "False\n"
     ]
    }
   ],
   "source": [
    "a = 4\n",
    "b = 9\n",
    "c = \"4\"\n",
    "print(c==a)\n",
    "print(a==b)\n",
    "print(a==a)\n",
    "print(a!=b)\n",
    "print(b!=b)"
   ]
  },
  {
   "cell_type": "markdown",
   "id": "4a85da35-1872-4698-bde1-ccd25b48f0e0",
   "metadata": {},
   "source": [
    "## == and is operator"
   ]
  },
  {
   "cell_type": "markdown",
   "id": "42949b0d-1a60-4a13-8327-7833cfd23ea2",
   "metadata": {},
   "source": [
    "== checks value same or not <br>\n",
    "is checks memory same or not"
   ]
  },
  {
   "cell_type": "code",
   "execution_count": 17,
   "id": "82c90115-6603-4c4a-80ba-1370a3dfa894",
   "metadata": {},
   "outputs": [
    {
     "name": "stdout",
     "output_type": "stream",
     "text": [
      "False\n",
      "False\n"
     ]
    }
   ],
   "source": [
    "a = 9\n",
    "b = 9\n",
    "a = 3\n",
    "print(a == b)\n",
    "print(a is b)"
   ]
  },
  {
   "cell_type": "code",
   "execution_count": null,
   "id": "19cbdaeb-ff02-48fa-b6d7-bf63ac48b241",
   "metadata": {},
   "outputs": [],
   "source": []
  },
  {
   "cell_type": "code",
   "execution_count": 24,
   "id": "003838db-4f61-4517-be63-700721e64480",
   "metadata": {},
   "outputs": [
    {
     "name": "stdout",
     "output_type": "stream",
     "text": [
      "True\n",
      "True\n",
      "2379961400640\n",
      "2379961400640\n"
     ]
    }
   ],
   "source": [
    "a = [1,2,3]\n",
    "b = [1,2,3]\n",
    "print(a==b)\n",
    "print(a is b)\n",
    "print(id(a))\n",
    "print(id(b))"
   ]
  },
  {
   "cell_type": "markdown",
   "id": "b00e6fd3-bd8d-4390-b9b8-73ed5faaf87a",
   "metadata": {},
   "source": [
    "## Assignment operator"
   ]
  },
  {
   "cell_type": "code",
   "execution_count": 40,
   "id": "e558f212-3741-4609-a93d-2c60a95ea365",
   "metadata": {},
   "outputs": [
    {
     "name": "stdout",
     "output_type": "stream",
     "text": [
      "1.0\n"
     ]
    }
   ],
   "source": [
    "a = 4\n",
    "a+=3  #a = a+3   7\n",
    "a-=3  #a = a-3    4\n",
    "a*=3  #a = a*3    12\n",
    "a/=3  #a = a/3    4.0\n",
    "a//=3 #a = a//3    1.0//3\n",
    "a%=3  #a = a%3     1%3\n",
    "a**=3 #a = a**3   1.0**3\n",
    "\n",
    "print(a)"
   ]
  },
  {
   "cell_type": "markdown",
   "id": "930b78df-7c30-4806-b269-5b220616b534",
   "metadata": {},
   "source": [
    "## Logical operator"
   ]
  },
  {
   "cell_type": "code",
   "execution_count": 49,
   "id": "7450a2bc-78ea-433b-a5e3-9f7c5a1147ce",
   "metadata": {},
   "outputs": [
    {
     "name": "stdout",
     "output_type": "stream",
     "text": [
      "False\n",
      "True\n",
      "False\n",
      "True\n",
      "True\n"
     ]
    }
   ],
   "source": [
    "a = True\n",
    "b = False\n",
    "print(a & b)\n",
    "print(a | b)\n",
    "print(not a)\n",
    "print(not b & a)\n",
    "print(not b & a | b)\n",
    "# not>&>|"
   ]
  },
  {
   "cell_type": "markdown",
   "id": "562180da-05d2-4540-9e37-812b94fd3ab0",
   "metadata": {},
   "source": [
    "## Bitwise Operator"
   ]
  },
  {
   "cell_type": "markdown",
   "id": "54f04e9a-f2c3-4436-9a45-144ae15a9619",
   "metadata": {},
   "source": [
    "### And Bitwise Operator"
   ]
  },
  {
   "cell_type": "raw",
   "id": "3ab87d9e-bd8a-4264-b414-796936ec811b",
   "metadata": {},
   "source": [
    "A     B     Result\n",
    "-------------------\n",
    "0     0       0\n",
    "0     1       0\n",
    "1     0       0\n",
    "1     1       1"
   ]
  },
  {
   "cell_type": "code",
   "execution_count": 3,
   "id": "ca53a77d-b807-4ed8-bc1d-ab7f26a7dc47",
   "metadata": {},
   "outputs": [
    {
     "name": "stdout",
     "output_type": "stream",
     "text": [
      "2\n",
      "0\n",
      "0\n"
     ]
    }
   ],
   "source": [
    "print(2 & 3)\n",
    "#0010  ---> 2\n",
    "#0011  ---> 3\n",
    "#--------------\n",
    "#0010  ---> 2\n",
    "\n",
    "print(15&16)\n",
    "\n",
    "#01111  ---> 15\n",
    "#10000  ---> 16\n",
    "#------------------\n",
    "#00000  ---> 0\n",
    "\n",
    "print(64&46)\n",
    "#1000000   ---> 64\n",
    "#0101110   ---> 46\n",
    "#-------------------\n",
    "#0000000   ----> 0\n",
    "\n"
   ]
  },
  {
   "cell_type": "markdown",
   "id": "8231c4aa-ff29-45d7-9099-224b1dc27934",
   "metadata": {},
   "source": [
    "### OR Bitwise operator"
   ]
  },
  {
   "cell_type": "raw",
   "id": "96da27d2-ff11-463a-9318-bc62dab66381",
   "metadata": {},
   "source": [
    "A     B     Result\n",
    "-------------------\n",
    "0     0       0\n",
    "0     1       1\n",
    "1     0       1\n",
    "1     1       1"
   ]
  },
  {
   "cell_type": "code",
   "execution_count": null,
   "id": "38e2af54-9d8e-4886-a881-f9a32444f2ea",
   "metadata": {},
   "outputs": [],
   "source": [
    "print(15|12)\n",
    "#1111 ---> 15\n",
    "#1100 ---> 12\n",
    "#--------------\n",
    "#1111 ---> 15\n",
    "\n",
    "print(32|32)\n",
    "#100000  ---> 32\n",
    "#100000  ---> 32\n",
    "#---------------\n",
    "#100000  ---> 32\n",
    "\n",
    "print(80|8)\n",
    "#1010000 ---> 80\n",
    "#0001000 ---> 8\n",
    "#--------------\n",
    "#1011000 ---> 88"
   ]
  },
  {
   "cell_type": "code",
   "execution_count": 6,
   "id": "8a75b170-0b89-4d40-9922-7ff46813943c",
   "metadata": {},
   "outputs": [
    {
     "name": "stdout",
     "output_type": "stream",
     "text": [
      "0b1010000\n",
      "80\n"
     ]
    }
   ],
   "source": [
    "print(bin(80)) #dec 2 bin\n",
    "print(0b1010000) # bin 2 dec"
   ]
  },
  {
   "cell_type": "markdown",
   "id": "8e3bfb8c-ddd0-447c-922c-0bd674338906",
   "metadata": {},
   "source": [
    "### XOR Table"
   ]
  },
  {
   "cell_type": "code",
   "execution_count": null,
   "id": "84cddcc9-ad94-4b35-979f-fe35810c76e7",
   "metadata": {},
   "outputs": [],
   "source": [
    "A     B     Result\n",
    "-------------------\n",
    "0     0       0\n",
    "0     1       1\n",
    "1     0       1\n",
    "1     1       0"
   ]
  },
  {
   "cell_type": "code",
   "execution_count": 7,
   "id": "6f516d11-eca6-4848-9e17-d8ec451959aa",
   "metadata": {},
   "outputs": [
    {
     "name": "stdout",
     "output_type": "stream",
     "text": [
      "6\n"
     ]
    }
   ],
   "source": [
    "print(4^2)\n",
    "#0100  ---> 4\n",
    "#0010  ---> 2\n",
    "#------------\n",
    "#0110  ---> 6"
   ]
  },
  {
   "cell_type": "markdown",
   "id": "85a60458-176e-4e56-882a-6f7e7d189b81",
   "metadata": {},
   "source": [
    "### One's Compliment (Not)"
   ]
  },
  {
   "cell_type": "markdown",
   "id": "e3f8c8ec-810d-43d1-b5c1-6050b78cfa19",
   "metadata": {},
   "source": [
    "-(num+1)"
   ]
  },
  {
   "cell_type": "code",
   "execution_count": 10,
   "id": "d4712641-a10d-4c34-9bd7-a35c8f1dd847",
   "metadata": {},
   "outputs": [
    {
     "name": "stdout",
     "output_type": "stream",
     "text": [
      "-5\n",
      "7\n"
     ]
    }
   ],
   "source": [
    "print(~4)\n",
    "print(~-8)"
   ]
  },
  {
   "cell_type": "markdown",
   "id": "5f8938c2-5cdc-4786-8547-d1c21aecdfb4",
   "metadata": {},
   "source": [
    "### right shift operator"
   ]
  },
  {
   "cell_type": "code",
   "execution_count": 19,
   "id": "9c6b67cf-66ef-40ed-9796-b9b10334f9bb",
   "metadata": {},
   "outputs": [
    {
     "name": "stdout",
     "output_type": "stream",
     "text": [
      "0\n",
      "3\n"
     ]
    }
   ],
   "source": [
    "print(3>>2)\n",
    "\n",
    "#0011  ---> 3\n",
    "#0000  ---- 0 (result)\n",
    "print(30>>3)\n",
    "#11110 ---> 30\n",
    "#00011  ---> 3 (result)"
   ]
  },
  {
   "cell_type": "code",
   "execution_count": 13,
   "id": "89d17af8-a450-4a11-9017-c4b35bffb4b9",
   "metadata": {},
   "outputs": [
    {
     "data": {
      "text/plain": [
       "'0b11110'"
      ]
     },
     "execution_count": 13,
     "metadata": {},
     "output_type": "execute_result"
    }
   ],
   "source": [
    "bin(30)"
   ]
  }
 ],
 "metadata": {
  "kernelspec": {
   "display_name": "Python 3 (ipykernel)",
   "language": "python",
   "name": "python3"
  },
  "language_info": {
   "codemirror_mode": {
    "name": "ipython",
    "version": 3
   },
   "file_extension": ".py",
   "mimetype": "text/x-python",
   "name": "python",
   "nbconvert_exporter": "python",
   "pygments_lexer": "ipython3",
   "version": "3.14.0"
  }
 },
 "nbformat": 4,
 "nbformat_minor": 5
}
