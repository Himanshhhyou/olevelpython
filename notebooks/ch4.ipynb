{
 "cells": [
  {
   "cell_type": "markdown",
   "id": "0c8daae4-ed56-469a-a37e-f5d826d11aa8",
   "metadata": {},
   "source": [
    "## + operator for string type"
   ]
  },
  {
   "cell_type": "code",
   "execution_count": 1,
   "id": "e993298c-56d3-48e5-b328-b6a3f21ab128",
   "metadata": {},
   "outputs": [
    {
     "name": "stdout",
     "output_type": "stream",
     "text": [
      "10\n",
      "37\n",
      "10\n",
      "37\n"
     ]
    }
   ],
   "source": [
    "print(3+7)\n",
    "#print(3+\"7\") #error\n",
    "print(str(3) + \"7\")\n",
    "\n",
    "print(3 + int(\"7\"))\n",
    "print(\"3\" + \"7\")"
   ]
  },
  {
   "cell_type": "markdown",
   "id": "beac36de-e730-43b1-b85d-f81a3aae384e",
   "metadata": {},
   "source": [
    "## * operator for string type"
   ]
  },
  {
   "cell_type": "code",
   "execution_count": null,
   "id": "e2af8ec1-ec53-4c05-a6bc-77a04f5ccbf5",
   "metadata": {},
   "outputs": [
    {
     "name": "stdout",
     "output_type": "stream",
     "text": [
      "15\n",
      "555\n",
      "33333\n",
      "------\n",
      "0\n",
      "\n",
      "false\n"
     ]
    },
    {
     "ename": "TypeError",
     "evalue": "can't multiply sequence by non-int of type 'str'",
     "output_type": "error",
     "traceback": [
      "\u001b[31m--------------------------------------------------------------------\u001b[39m",
      "\u001b[31mTypeError\u001b[39m                          Traceback (most recent call last)",
      "\u001b[36mCell\u001b[39m\u001b[36m \u001b[39m\u001b[32mIn[7]\u001b[39m\u001b[32m, line 9\u001b[39m\n\u001b[32m      7\u001b[39m \u001b[38;5;28mprint\u001b[39m(\u001b[33m\"\u001b[39m\u001b[33mtrue\u001b[39m\u001b[33m\"\u001b[39m*\u001b[38;5;28;01mFalse\u001b[39;00m)\n\u001b[32m      8\u001b[39m \u001b[38;5;28mprint\u001b[39m(\u001b[38;5;28;01mTrue\u001b[39;00m*\u001b[33m\"\u001b[39m\u001b[33mfalse\u001b[39m\u001b[33m\"\u001b[39m)\n\u001b[32m----> \u001b[39m\u001b[32m9\u001b[39m \u001b[38;5;28mprint\u001b[39m(\u001b[33;43m\"\u001b[39;49m\u001b[33;43mtrue\u001b[39;49m\u001b[33;43m\"\u001b[39;49m\u001b[43m*\u001b[49m\u001b[33;43m\"\u001b[39;49m\u001b[33;43mfalse\u001b[39;49m\u001b[33;43m\"\u001b[39;49m)\n",
      "\u001b[31mTypeError\u001b[39m: can't multiply sequence by non-int of type 'str'"
     ]
    }
   ],
   "source": [
    "print(3*5)\n",
    "print(3*\"5\")\n",
    "print(\"3\"*5)\n",
    "#print(\"3\"*\"5\") #error\n",
    "print(\"------\")\n",
    "print(True*False)\n",
    "print(\"True\"*False)\n",
    "print(True*\"False\")\n",
    "#print(\"True\"*\"False\")#error"
   ]
  },
  {
   "cell_type": "code",
   "execution_count": null,
   "id": "6428a98c",
   "metadata": {},
   "outputs": [],
   "source": [
    "print(True+False)\n"
   ]
  }
 ],
 "metadata": {
  "kernelspec": {
   "display_name": "Python 3 (ipykernel)",
   "language": "python",
   "name": "python3"
  },
  "language_info": {
   "codemirror_mode": {
    "name": "ipython",
    "version": 3
   },
   "file_extension": ".py",
   "mimetype": "text/x-python",
   "name": "python",
   "nbconvert_exporter": "python",
   "pygments_lexer": "ipython3",
   "version": "3.14.0"
  }
 },
 "nbformat": 4,
 "nbformat_minor": 5
}
