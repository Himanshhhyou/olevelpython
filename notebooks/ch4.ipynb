{
 "cells": [
  {
   "cell_type": "markdown",
   "id": "124b2949",
   "metadata": {},
   "source": [
    "[Back to Home](olevel-python.netlify.app)\n"
   ]
  },
  {
   "cell_type": "markdown",
   "id": "a511791e-000a-40ac-8026-a5b01c4ba343",
   "metadata": {},
   "source": [
    "## Table of contents\n",
    "\n",
    "1. [+,*,/ operator for string type](#+-operator-for-string-type)\n",
    "2. [Relational Operator or comparison operator](#-Relational-Operator-or-comparison-operator)\n",
    "3. [A program to check given is name is valid or not](#A-program-to-check-given-is-name-is-valid-or-not)"
   ]
  },
  {
   "cell_type": "markdown",
   "id": "0c8daae4-ed56-469a-a37e-f5d826d11aa8",
   "metadata": {},
   "source": [
    "## + operator for string type"
   ]
  },
  {
   "cell_type": "code",
   "execution_count": 1,
   "id": "e993298c-56d3-48e5-b328-b6a3f21ab128",
   "metadata": {},
   "outputs": [
    {
     "name": "stdout",
     "output_type": "stream",
     "text": [
      "10\n",
      "37\n",
      "10\n",
      "37\n"
     ]
    }
   ],
   "source": [
    "print(3+7)\n",
    "#print(3+\"7\") #error\n",
    "print(str(3) + \"7\")\n",
    "\n",
    "print(3 + int(\"7\"))\n",
    "print(\"3\" + \"7\")"
   ]
  },
  {
   "cell_type": "markdown",
   "id": "beac36de-e730-43b1-b85d-f81a3aae384e",
   "metadata": {},
   "source": [
    "## * operator for string type"
   ]
  },
  {
   "cell_type": "code",
   "execution_count": null,
   "id": "e2af8ec1-ec53-4c05-a6bc-77a04f5ccbf5",
   "metadata": {},
   "outputs": [
    {
     "name": "stdout",
     "output_type": "stream",
     "text": [
      "15\n",
      "555\n",
      "33333\n",
      "------\n",
      "0\n",
      "\n",
      "false\n"
     ]
    },
    {
     "ename": "TypeError",
     "evalue": "can't multiply sequence by non-int of type 'str'",
     "output_type": "error",
     "traceback": [
      "\u001b[31m--------------------------------------------------------------------\u001b[39m",
      "\u001b[31mTypeError\u001b[39m                          Traceback (most recent call last)",
      "\u001b[36mCell\u001b[39m\u001b[36m \u001b[39m\u001b[32mIn[7]\u001b[39m\u001b[32m, line 9\u001b[39m\n\u001b[32m      7\u001b[39m \u001b[38;5;28mprint\u001b[39m(\u001b[33m\"\u001b[39m\u001b[33mtrue\u001b[39m\u001b[33m\"\u001b[39m*\u001b[38;5;28;01mFalse\u001b[39;00m)\n\u001b[32m      8\u001b[39m \u001b[38;5;28mprint\u001b[39m(\u001b[38;5;28;01mTrue\u001b[39;00m*\u001b[33m\"\u001b[39m\u001b[33mfalse\u001b[39m\u001b[33m\"\u001b[39m)\n\u001b[32m----> \u001b[39m\u001b[32m9\u001b[39m \u001b[38;5;28mprint\u001b[39m(\u001b[33;43m\"\u001b[39;49m\u001b[33;43mtrue\u001b[39;49m\u001b[33;43m\"\u001b[39;49m\u001b[43m*\u001b[49m\u001b[33;43m\"\u001b[39;49m\u001b[33;43mfalse\u001b[39;49m\u001b[33;43m\"\u001b[39;49m)\n",
      "\u001b[31mTypeError\u001b[39m: can't multiply sequence by non-int of type 'str'"
     ]
    }
   ],
   "source": [
    "print(3*5)\n",
    "print(3*\"5\")\n",
    "print(\"3\"*5)\n",
    "#print(\"3\"*\"5\") #error\n",
    "print(\"------\")\n",
    "print(True*False)\n",
    "print(\"True\"*False)\n",
    "print(True*\"False\")\n",
    "#print(\"True\"*\"False\")#error"
   ]
  },
  {
   "cell_type": "markdown",
   "id": "9183b4bc-d7d2-4d21-8bec-172728c9e6c0",
   "metadata": {},
   "source": [
    "## / Operator for arithmatic operation"
   ]
  },
  {
   "cell_type": "code",
   "execution_count": 7,
   "id": "adbcd5e1-d3f3-46d4-b098-ccdddaf4841e",
   "metadata": {},
   "outputs": [
    {
     "name": "stdout",
     "output_type": "stream",
     "text": [
      "0.0\n",
      "1\n",
      "2\n"
     ]
    }
   ],
   "source": [
    "#print(3/0)#zeroDivisionError\n",
    "print(0/3)\n",
    "#print(\"3\"/0)\n",
    "#print(0/\"apple\")\n",
    "\n",
    "print(5//3) \n",
    "print(5%3)\n"
   ]
  },
  {
   "cell_type": "markdown",
   "id": "deb96eb5-23c2-456e-bdd8-79ea9f6ef9d0",
   "metadata": {},
   "source": [
    "# Relational Operator or comparison operator"
   ]
  },
  {
   "cell_type": "code",
   "execution_count": 10,
   "id": "e13df004-164d-4a21-85aa-2c56bbce268f",
   "metadata": {},
   "outputs": [
    {
     "name": "stdout",
     "output_type": "stream",
     "text": [
      "a==b ---> False\n",
      "a!=b ---> True\n",
      "a>b ---> False\n",
      "a>=b ---> False\n",
      "a<b ---> True\n",
      "a<=b ---> True\n"
     ]
    }
   ],
   "source": [
    "a = 5\n",
    "b = 9\n",
    "print(f\"a==b ---> {a==b}\")\n",
    "print(f\"a!=b ---> {a!=b}\")\n",
    "print(f\"a>b ---> {a>b}\")\n",
    "print(f\"a>=b ---> {a>=b}\")\n",
    "print(f\"a<b ---> {a<b}\")\n",
    "print(f\"a<=b ---> {a<=b}\")"
   ]
  },
  {
   "cell_type": "markdown",
   "id": "870b9f02-9ed8-44fa-9c54-6336339a779c",
   "metadata": {},
   "source": [
    "<hr>\n",
    "\n",
    "## A program to check given is name is valid or not"
   ]
  },
  {
   "cell_type": "markdown",
   "id": "e28218cb-6812-4865-ac1c-abb2f45a3d8d",
   "metadata": {},
   "source": [
    "**ASCII Value**<br>\n",
    "a-z = 97-122 <br>\n",
    "A-Z = 65-90 <br>\n",
    "space  = 32"
   ]
  },
  {
   "cell_type": "code",
   "execution_count": 21,
   "id": "f5a0cb46-40b2-426e-8d1a-5724b6772f4a",
   "metadata": {},
   "outputs": [
    {
     "name": "stdin",
     "output_type": "stream",
     "text": [
      "Enter your name:  p1yush kumar@\n"
     ]
    },
    {
     "name": "stdout",
     "output_type": "stream",
     "text": [
      "Name is not acceptable\n"
     ]
    }
   ],
   "source": [
    "name = input(\"Enter your name: \")\n",
    "isValid = False\n",
    "for i in name:\n",
    "    if ord(i)>=97 and ord(i)<=122:\n",
    "        isValid = True\n",
    "    elif ord(i)>=65 and ord(i)<=90:\n",
    "        isValid = True\n",
    "    elif ord(i)==32:\n",
    "        isValid = True\n",
    "    else:\n",
    "        isValid = False\n",
    "if isValid == True:\n",
    "    print(\"Name is acceptable\")\n",
    "else:\n",
    "    print(\"Name is not acceptable\")\n",
    "        "
   ]
  },
  {
   "cell_type": "code",
   "execution_count": null,
   "id": "fe7094dd-2757-43e4-b334-1b79a5095842",
   "metadata": {},
   "outputs": [],
   "source": []
  }
 ],
 "metadata": {
  "kernelspec": {
   "display_name": "Python 3 (ipykernel)",
   "language": "python",
   "name": "python3"
  },
  "language_info": {
   "codemirror_mode": {
    "name": "ipython",
    "version": 3
   },
   "file_extension": ".py",
   "mimetype": "text/x-python",
   "name": "python",
   "nbconvert_exporter": "python",
   "pygments_lexer": "ipython3",
   "version": "3.14.0"
  }
 },
 "nbformat": 4,
 "nbformat_minor": 5
}
