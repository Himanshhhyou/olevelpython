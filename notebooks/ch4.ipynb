{
 "cells": [
  {
   "cell_type": "markdown",
   "id": "124b2949",
   "metadata": {},
   "source": [
    "[Back to Home](hpps://www.olevel-python.netlify.app)\n"
   ]
  },
  {
   "cell_type": "markdown",
   "id": "a511791e-000a-40ac-8026-a5b01c4ba343",
   "metadata": {},
   "source": [
    "<h2 style=\"color: red;\">Table of Content</h2>\n",
    "\n",
    "1. **[+,*,/ operator for string type](#+-operator-for-string-type)**\n",
    "3. **[Relational Operator or comparison operator](#Relational-Operator-or-comparison-operator)**\n",
    "4. **[A program to check given is name is valid or not](#A-program-to-check-given-is-name-is-valid-or-not)**\n",
    "5. **[Tricky Questions](#tricky-questions)**\n",
    "6. **[Relational operators chaining](#Relational-operators-chaining)**\n",
    "7. **[Equality Operator](#Equality-Operator)**\n",
    "8. **[== and is operator](#==-and-is-operator)**\n",
    "9. **[Assignment operator](#Assignment-operator)**\n",
    "10. **[Logical operator](#Logical-operator)**\n",
    "10. **[Bitwise operator](#Bitwise-Operator)**\n",
    "11. **[Membership Operator](#Membership-Operator)**\n",
    "11. **[Precedence](#Precedence)**\n",
    "11. **[Conditional Statement](#Conditional-Statement)**\n",
    "11. **[While Loop](#While-Loop)**\n",
    "11. **[Pass, Break, Continue](#Pass,-Break,-Continue)**\n",
    "\n",
    "<hr>"
   ]
  },
  {
   "cell_type": "markdown",
   "id": "0c8daae4-ed56-469a-a37e-f5d826d11aa8",
   "metadata": {},
   "source": [
    "## + operator for string type"
   ]
  },
  {
   "cell_type": "code",
   "execution_count": 25,
   "id": "e993298c-56d3-48e5-b328-b6a3f21ab128",
   "metadata": {},
   "outputs": [
    {
     "name": "stdout",
     "output_type": "stream",
     "text": [
      "10\n",
      "37\n",
      "10\n",
      "37\n"
     ]
    }
   ],
   "source": [
    "print(3+7)\n",
    "#print(3+\"7\") #error\n",
    "print(str(3) + \"7\")\n",
    "\n",
    "print(3 + int(\"7\"))\n",
    "print(\"3\" + \"7\")"
   ]
  },
  {
   "cell_type": "markdown",
   "id": "beac36de-e730-43b1-b85d-f81a3aae384e",
   "metadata": {},
   "source": [
    "## * operator for string type"
   ]
  },
  {
   "cell_type": "code",
   "execution_count": 26,
   "id": "e2af8ec1-ec53-4c05-a6bc-77a04f5ccbf5",
   "metadata": {},
   "outputs": [
    {
     "name": "stdout",
     "output_type": "stream",
     "text": [
      "15\n",
      "555\n",
      "33333\n",
      "------\n",
      "0\n",
      "\n",
      "False\n"
     ]
    }
   ],
   "source": [
    "print(3*5)\n",
    "print(3*\"5\")\n",
    "print(\"3\"*5)\n",
    "#print(\"3\"*\"5\") #error\n",
    "print(\"------\")\n",
    "print(True*False)\n",
    "print(\"True\"*False)\n",
    "print(True*\"False\")\n",
    "#print(\"True\"*\"False\")#error"
   ]
  },
  {
   "cell_type": "markdown",
   "id": "9183b4bc-d7d2-4d21-8bec-172728c9e6c0",
   "metadata": {},
   "source": [
    "## / Operator for arithmatic operation"
   ]
  },
  {
   "cell_type": "code",
   "execution_count": 27,
   "id": "adbcd5e1-d3f3-46d4-b098-ccdddaf4841e",
   "metadata": {},
   "outputs": [
    {
     "name": "stdout",
     "output_type": "stream",
     "text": [
      "0.0\n",
      "1\n",
      "2\n"
     ]
    }
   ],
   "source": [
    "#print(3/0)#zeroDivisionError\n",
    "print(0/3)\n",
    "#print(\"3\"/0)\n",
    "#print(0/\"apple\")\n",
    "\n",
    "print(5//3) \n",
    "print(5%3)\n"
   ]
  },
  {
   "cell_type": "markdown",
   "id": "deb96eb5-23c2-456e-bdd8-79ea9f6ef9d0",
   "metadata": {},
   "source": [
    "# Relational Operator or comparison operator"
   ]
  },
  {
   "cell_type": "code",
   "execution_count": 28,
   "id": "e13df004-164d-4a21-85aa-2c56bbce268f",
   "metadata": {},
   "outputs": [
    {
     "name": "stdout",
     "output_type": "stream",
     "text": [
      "a==b ---> False\n",
      "a!=b ---> True\n",
      "a>b ---> False\n",
      "a>=b ---> False\n",
      "a<b ---> True\n",
      "a<=b ---> True\n"
     ]
    }
   ],
   "source": [
    "a = 5\n",
    "b = 9\n",
    "print(f\"a==b ---> {a==b}\")\n",
    "print(f\"a!=b ---> {a!=b}\")\n",
    "print(f\"a>b ---> {a>b}\")\n",
    "print(f\"a>=b ---> {a>=b}\")\n",
    "print(f\"a<b ---> {a<b}\")\n",
    "print(f\"a<=b ---> {a<=b}\")"
   ]
  },
  {
   "cell_type": "markdown",
   "id": "870b9f02-9ed8-44fa-9c54-6336339a779c",
   "metadata": {},
   "source": [
    "<hr>\n",
    "\n",
    "## A program to check given is name is valid or not"
   ]
  },
  {
   "cell_type": "markdown",
   "id": "e28218cb-6812-4865-ac1c-abb2f45a3d8d",
   "metadata": {},
   "source": [
    "**ASCII Value**<br>\n",
    "\n",
    "a-z = 97-122 <br>\n",
    "A-Z = 65-90 <br>\n",
    "space  = 32"
   ]
  },
  {
   "cell_type": "code",
   "execution_count": 29,
   "id": "f5a0cb46-40b2-426e-8d1a-5724b6772f4a",
   "metadata": {},
   "outputs": [
    {
     "name": "stdout",
     "output_type": "stream",
     "text": [
      "Name is acceptable\n"
     ]
    }
   ],
   "source": [
    "name = input(\"Enter your name: \")\n",
    "isValid = False\n",
    "for i in name:\n",
    "    if ord(i)>=97 and ord(i)<=122:\n",
    "        isValid = True\n",
    "    elif ord(i)>=65 and ord(i)<=90:\n",
    "        isValid = True\n",
    "    elif ord(i)==32:\n",
    "        isValid = True\n",
    "    else:\n",
    "        isValid = False\n",
    "if isValid == True:\n",
    "    print(\"Name is acceptable\")\n",
    "else:\n",
    "    print(\"Name is not acceptable\")\n",
    "        "
   ]
  },
  {
   "cell_type": "markdown",
   "id": "27018678-810a-4ad8-b6a4-0b19b0db7a50",
   "metadata": {},
   "source": [
    "## Tricky Questions"
   ]
  },
  {
   "cell_type": "markdown",
   "id": "ee956768-a0d8-4d48-8981-b9a86c57265e",
   "metadata": {},
   "source": [
    "**Primitive**\n",
    "Immutable - can not change once assign value\n",
    "\n",
    "**Non Primitive**\n",
    "mutable - can change"
   ]
  },
  {
   "cell_type": "markdown",
   "id": "f5d8a47e-0ba1-4004-bff9-dd672b86de69",
   "metadata": {},
   "source": [
    "### Question 1"
   ]
  },
  {
   "cell_type": "code",
   "execution_count": 30,
   "id": "8311b492-a87d-4794-8b12-b63d1f3c7af2",
   "metadata": {},
   "outputs": [
    {
     "name": "stdout",
     "output_type": "stream",
     "text": [
      "20\n",
      "30\n"
     ]
    }
   ],
   "source": [
    "a = 20\n",
    "b = a #20\n",
    "b = 30 \n",
    "print(a)\n",
    "print(b)"
   ]
  },
  {
   "cell_type": "markdown",
   "id": "ff48bb8e-f02f-4f79-b7ec-b15395bb7cd1",
   "metadata": {},
   "source": [
    "### Question 2"
   ]
  },
  {
   "cell_type": "code",
   "execution_count": 31,
   "id": "834c250f-f74d-4b09-9544-e9a3b2ccee0b",
   "metadata": {},
   "outputs": [
    {
     "name": "stdout",
     "output_type": "stream",
     "text": [
      "{'name': 'Piyush', 'age': 40}\n",
      "{'name': 'Piyush', 'age': 40}\n",
      "{'name': 'Piyush', 'age': 40}\n"
     ]
    }
   ],
   "source": [
    "person1 = {\n",
    "    \"name\": \"Ram\",\n",
    "    \"age\" : 21\n",
    "}\n",
    "person2 = person1\n",
    "person2[\"name\"] = \"Piyush\"\n",
    "\n",
    "person3 = person1\n",
    "person3[\"age\"]= 40\n",
    "\n",
    "print(person1)\n",
    "print(person2)\n",
    "print(person3)"
   ]
  },
  {
   "cell_type": "markdown",
   "id": "544d84d7-fadd-4886-8821-b0c6437542c5",
   "metadata": {},
   "source": [
    "### Question 3"
   ]
  },
  {
   "cell_type": "code",
   "execution_count": 32,
   "id": "c82b3fc2-9561-4510-9d88-f43fff6b895b",
   "metadata": {},
   "outputs": [
    {
     "name": "stdout",
     "output_type": "stream",
     "text": [
      "True\n",
      "False\n"
     ]
    }
   ],
   "source": [
    "a = 0.25\n",
    "b = 0.25\n",
    "print(a+b == 0.5)\n",
    "\n",
    "c = 0.2\n",
    "d = 0.1\n",
    "print(c+d == 0.3)"
   ]
  },
  {
   "cell_type": "markdown",
   "id": "ad12a7c8-d550-471f-82bb-cc97c48577dd",
   "metadata": {},
   "source": [
    "## Relational operators chaining"
   ]
  },
  {
   "cell_type": "code",
   "execution_count": 33,
   "id": "689e0681-6074-4480-9106-ff6e7df05f3e",
   "metadata": {},
   "outputs": [
    {
     "name": "stdout",
     "output_type": "stream",
     "text": [
      "False\n",
      "True\n",
      "False\n"
     ]
    }
   ],
   "source": [
    "a = 8\n",
    "b = 4\n",
    "c = 2\n",
    "d = 3\n",
    "print(a<b<c<d) \n",
    "print(a>b>c<d)\n",
    "#8>4>2<3\n",
    "#true true true\n",
    "print(b<d>a<c)\n",
    "#4<3>8<2\n",
    "#false false false"
   ]
  },
  {
   "cell_type": "markdown",
   "id": "25cf07c4-e0f1-483b-a277-02b7d1107ff1",
   "metadata": {},
   "source": [
    "## Equality Operator"
   ]
  },
  {
   "cell_type": "markdown",
   "id": "882de564-8dc0-41d3-8bc6-4b16aa9e1ee1",
   "metadata": {},
   "source": [
    "== checks value and data type both "
   ]
  },
  {
   "cell_type": "code",
   "execution_count": 34,
   "id": "a71a37e8-6eca-41ad-b0e1-8dbb8e913ad7",
   "metadata": {},
   "outputs": [
    {
     "name": "stdout",
     "output_type": "stream",
     "text": [
      "False\n",
      "False\n",
      "True\n",
      "True\n",
      "False\n"
     ]
    }
   ],
   "source": [
    "a = 4\n",
    "b = 9\n",
    "c = \"4\"\n",
    "print(c==a)\n",
    "print(a==b)\n",
    "print(a==a)\n",
    "print(a!=b)\n",
    "print(b!=b)"
   ]
  },
  {
   "cell_type": "markdown",
   "id": "4a85da35-1872-4698-bde1-ccd25b48f0e0",
   "metadata": {},
   "source": [
    "## == and is operator"
   ]
  },
  {
   "cell_type": "markdown",
   "id": "42949b0d-1a60-4a13-8327-7833cfd23ea2",
   "metadata": {},
   "source": [
    "== checks value same or not <br>\n",
    "is checks memory same or not"
   ]
  },
  {
   "cell_type": "code",
   "execution_count": 35,
   "id": "82c90115-6603-4c4a-80ba-1370a3dfa894",
   "metadata": {},
   "outputs": [
    {
     "name": "stdout",
     "output_type": "stream",
     "text": [
      "False\n",
      "False\n"
     ]
    }
   ],
   "source": [
    "a = 9\n",
    "b = 9\n",
    "a = 3\n",
    "print(a == b)\n",
    "print(a is b)"
   ]
  },
  {
   "cell_type": "code",
   "execution_count": null,
   "id": "19cbdaeb-ff02-48fa-b6d7-bf63ac48b241",
   "metadata": {},
   "outputs": [],
   "source": []
  },
  {
   "cell_type": "code",
   "execution_count": 36,
   "id": "003838db-4f61-4517-be63-700721e64480",
   "metadata": {},
   "outputs": [
    {
     "name": "stdout",
     "output_type": "stream",
     "text": [
      "True\n",
      "False\n",
      "2048426066496\n",
      "2048425800896\n"
     ]
    }
   ],
   "source": [
    "a = [1,2,3]\n",
    "b = [1,2,3]\n",
    "print(a==b)\n",
    "print(a is b)\n",
    "print(id(a))\n",
    "print(id(b))"
   ]
  },
  {
   "cell_type": "markdown",
   "id": "b00e6fd3-bd8d-4390-b9b8-73ed5faaf87a",
   "metadata": {},
   "source": [
    "## Assignment operator"
   ]
  },
  {
   "cell_type": "code",
   "execution_count": 37,
   "id": "e558f212-3741-4609-a93d-2c60a95ea365",
   "metadata": {},
   "outputs": [
    {
     "name": "stdout",
     "output_type": "stream",
     "text": [
      "1.0\n"
     ]
    }
   ],
   "source": [
    "a = 4\n",
    "a+=3  #a = a+3   7\n",
    "a-=3  #a = a-3    4\n",
    "a*=3  #a = a*3    12\n",
    "a/=3  #a = a/3    4.0\n",
    "a//=3 #a = a//3    1.0//3\n",
    "a%=3  #a = a%3     1%3\n",
    "a**=3 #a = a**3   1.0**3\n",
    "\n",
    "print(a)"
   ]
  },
  {
   "cell_type": "markdown",
   "id": "930b78df-7c30-4806-b269-5b220616b534",
   "metadata": {},
   "source": [
    "## Logical operator"
   ]
  },
  {
   "cell_type": "code",
   "execution_count": 38,
   "id": "7450a2bc-78ea-433b-a5e3-9f7c5a1147ce",
   "metadata": {},
   "outputs": [
    {
     "name": "stdout",
     "output_type": "stream",
     "text": [
      "False\n",
      "True\n",
      "False\n",
      "True\n",
      "True\n"
     ]
    }
   ],
   "source": [
    "a = True\n",
    "b = False\n",
    "print(a & b)\n",
    "print(a | b)\n",
    "print(not a)\n",
    "print(not b & a)\n",
    "print(not b & a | b)\n",
    "# not>&>|"
   ]
  },
  {
   "cell_type": "markdown",
   "id": "562180da-05d2-4540-9e37-812b94fd3ab0",
   "metadata": {},
   "source": [
    "## Bitwise Operator"
   ]
  },
  {
   "cell_type": "markdown",
   "id": "54f04e9a-f2c3-4436-9a45-144ae15a9619",
   "metadata": {},
   "source": [
    "### And Bitwise Operator"
   ]
  },
  {
   "cell_type": "markdown",
   "id": "84214c65-636b-4040-8e3f-945c33d04cf3",
   "metadata": {},
   "source": [
    "| A | B | Result |\n",
    "|---|---|---------|\n",
    "| 0 | 0 |   0     |\n",
    "| 0 | 1 |   0     |\n",
    "| 1 | 0 |   0     |\n",
    "| 1 | 1 |   1     |"
   ]
  },
  {
   "cell_type": "code",
   "execution_count": 39,
   "id": "ca53a77d-b807-4ed8-bc1d-ab7f26a7dc47",
   "metadata": {},
   "outputs": [
    {
     "name": "stdout",
     "output_type": "stream",
     "text": [
      "2\n",
      "0\n",
      "0\n"
     ]
    }
   ],
   "source": [
    "print(2 & 3)\n",
    "#0010  ---> 2\n",
    "#0011  ---> 3\n",
    "#--------------\n",
    "#0010  ---> 2\n",
    "\n",
    "print(15&16)\n",
    "\n",
    "#01111  ---> 15\n",
    "#10000  ---> 16\n",
    "#------------------\n",
    "#00000  ---> 0\n",
    "\n",
    "print(64&46)\n",
    "#1000000   ---> 64\n",
    "#0101110   ---> 46\n",
    "#-------------------\n",
    "#0000000   ----> 0\n",
    "\n"
   ]
  },
  {
   "cell_type": "markdown",
   "id": "8231c4aa-ff29-45d7-9099-224b1dc27934",
   "metadata": {},
   "source": [
    "### OR Bitwise operator"
   ]
  },
  {
   "cell_type": "markdown",
   "id": "9b1533a8-fbb3-4e50-a2a5-2cd1b9ad471c",
   "metadata": {},
   "source": [
    "| A | B | Result |\n",
    "|---|---|---------|\n",
    "| 0 | 0 |   0     |\n",
    "| 0 | 1 |   1     |\n",
    "| 1 | 0 |   1     |\n",
    "| 1 | 1 |   1     |"
   ]
  },
  {
   "cell_type": "code",
   "execution_count": 40,
   "id": "38e2af54-9d8e-4886-a881-f9a32444f2ea",
   "metadata": {},
   "outputs": [
    {
     "name": "stdout",
     "output_type": "stream",
     "text": [
      "15\n",
      "32\n",
      "88\n"
     ]
    }
   ],
   "source": [
    "print(15|12)\n",
    "#1111 ---> 15\n",
    "#1100 ---> 12\n",
    "#--------------\n",
    "#1111 ---> 15\n",
    "\n",
    "print(32|32)\n",
    "#100000  ---> 32\n",
    "#100000  ---> 32\n",
    "#---------------\n",
    "#100000  ---> 32\n",
    "\n",
    "print(80|8)\n",
    "#1010000 ---> 80\n",
    "#0001000 ---> 8\n",
    "#--------------\n",
    "#1011000 ---> 88"
   ]
  },
  {
   "cell_type": "code",
   "execution_count": 41,
   "id": "8a75b170-0b89-4d40-9922-7ff46813943c",
   "metadata": {},
   "outputs": [
    {
     "name": "stdout",
     "output_type": "stream",
     "text": [
      "0b1010000\n",
      "80\n"
     ]
    }
   ],
   "source": [
    "print(bin(80)) #dec 2 bin\n",
    "print(0b1010000) # bin 2 dec"
   ]
  },
  {
   "cell_type": "markdown",
   "id": "8e3bfb8c-ddd0-447c-922c-0bd674338906",
   "metadata": {},
   "source": [
    "### XOR Table"
   ]
  },
  {
   "cell_type": "markdown",
   "id": "5503301a-c938-4531-a660-136d91238878",
   "metadata": {},
   "source": [
    "| A | B | Result |\n",
    "|---|---|---------|\n",
    "| 0 | 0 |   0     |\n",
    "| 0 | 1 |   1     |\n",
    "| 1 | 0 |   1     |\n",
    "| 1 | 1 |   0     |\n"
   ]
  },
  {
   "cell_type": "code",
   "execution_count": 42,
   "id": "6f516d11-eca6-4848-9e17-d8ec451959aa",
   "metadata": {},
   "outputs": [
    {
     "name": "stdout",
     "output_type": "stream",
     "text": [
      "6\n"
     ]
    }
   ],
   "source": [
    "print(4^2)\n",
    "#0100  ---> 4\n",
    "#0010  ---> 2\n",
    "#------------\n",
    "#0110  ---> 6"
   ]
  },
  {
   "cell_type": "markdown",
   "id": "85a60458-176e-4e56-882a-6f7e7d189b81",
   "metadata": {},
   "source": [
    "### One's Compliment (Not)"
   ]
  },
  {
   "cell_type": "markdown",
   "id": "e3f8c8ec-810d-43d1-b5c1-6050b78cfa19",
   "metadata": {},
   "source": [
    "-(num+1)"
   ]
  },
  {
   "cell_type": "code",
   "execution_count": 43,
   "id": "d4712641-a10d-4c34-9bd7-a35c8f1dd847",
   "metadata": {},
   "outputs": [
    {
     "name": "stdout",
     "output_type": "stream",
     "text": [
      "-5\n",
      "7\n"
     ]
    }
   ],
   "source": [
    "print(~4)\n",
    "print(~-8)"
   ]
  },
  {
   "cell_type": "markdown",
   "id": "5f8938c2-5cdc-4786-8547-d1c21aecdfb4",
   "metadata": {},
   "source": [
    "### right shift operator"
   ]
  },
  {
   "cell_type": "code",
   "execution_count": 44,
   "id": "9c6b67cf-66ef-40ed-9796-b9b10334f9bb",
   "metadata": {},
   "outputs": [
    {
     "name": "stdout",
     "output_type": "stream",
     "text": [
      "0\n",
      "3\n"
     ]
    }
   ],
   "source": [
    "print(3>>2)\n",
    "\n",
    "#0011  ---> 3\n",
    "#0000  ---- 0 (result)\n",
    "print(30>>3)\n",
    "#11110 ---> 30\n",
    "#00011  ---> 3 (result)"
   ]
  },
  {
   "cell_type": "code",
   "execution_count": 45,
   "id": "89d17af8-a450-4a11-9017-c4b35bffb4b9",
   "metadata": {},
   "outputs": [
    {
     "data": {
      "text/plain": [
       "'0b11110'"
      ]
     },
     "execution_count": 45,
     "metadata": {},
     "output_type": "execute_result"
    }
   ],
   "source": [
    "bin(30)"
   ]
  },
  {
   "cell_type": "markdown",
   "id": "e796ef24-04d4-4720-831c-4460ce4c104c",
   "metadata": {},
   "source": [
    "## Membership Operator \n"
   ]
  },
  {
   "cell_type": "markdown",
   "id": "4a2993d2",
   "metadata": {},
   "source": [
    "(in, not in)"
   ]
  },
  {
   "cell_type": "code",
   "execution_count": 46,
   "id": "422a182c-d843-4b48-aa50-0c764a546141",
   "metadata": {},
   "outputs": [
    {
     "name": "stdout",
     "output_type": "stream",
     "text": [
      "True\n",
      "True\n",
      "False\n",
      "True\n",
      "False\n"
     ]
    }
   ],
   "source": [
    "name = \"Rahul\"\n",
    "print(\"R\" in name)\n",
    "print(\"h\" in name)\n",
    "print(\"m\" in name)\n",
    "\n",
    "print(\"A\" not in name)\n",
    "print(\"u\" not in name)\n"
   ]
  },
  {
   "cell_type": "markdown",
   "id": "1898d0fe-2d1f-4593-b0c1-79ad64bd5dbb",
   "metadata": {},
   "source": [
    "#### Create a python program to check <br> user write their sirname(lastname) or not"
   ]
  },
  {
   "cell_type": "markdown",
   "id": "ead9a16e-f71d-4bc7-9328-5b2cfa76aa36",
   "metadata": {},
   "source": [
    "Ram - Please enter your sir name <br>\n",
    "Ram Singh - Hello Mr./Mrs. {Singh} (use ---> find(), slicing)"
   ]
  },
  {
   "cell_type": "code",
   "execution_count": 7,
   "id": "0aebc135-527a-49cb-a21a-be0679a69dea",
   "metadata": {},
   "outputs": [
    {
     "name": "stdout",
     "output_type": "stream",
     "text": [
      "Enter Your name:  ram a\n"
     ]
    },
    {
     "name": "stdout",
     "output_type": "stream",
     "text": [
      "Hello Mr./Mrs.  a\n"
     ]
    }
   ],
   "source": [
    "name = input(\"Enter Your name: \") #ram  \n",
    "if \" \" in name:\n",
    "    s = name.find(\" \")\n",
    "    if len(name[s:])==1:\n",
    "        print(\"Jyada Hoshiyari nhi dikhao\")\n",
    "    else:\n",
    "        print(\"Hello Mr./Mrs.\",name[3:])\n",
    "else:\n",
    "    print(\"Please Enter your Full Name\")"
   ]
  },
  {
   "cell_type": "code",
   "execution_count": 47,
   "id": "f134eff1-c22e-4c45-95bb-bec41dac1d2f",
   "metadata": {},
   "outputs": [
    {
     "data": {
      "text/plain": [
       "2"
      ]
     },
     "execution_count": 47,
     "metadata": {},
     "output_type": "execute_result"
    }
   ],
   "source": [
    "\"Rima\".find(\"m\")"
   ]
  },
  {
   "cell_type": "markdown",
   "id": "118aecdb-1146-4f17-b532-990f492a2b45",
   "metadata": {},
   "source": [
    "## Precedence"
   ]
  },
  {
   "cell_type": "code",
   "execution_count": 48,
   "id": "bfbcc850-0bca-484b-9be8-c9b63594f9d5",
   "metadata": {},
   "outputs": [
    {
     "ename": "SyntaxError",
     "evalue": "invalid syntax (3281085816.py, line 11)",
     "output_type": "error",
     "traceback": [
      "  \u001b[36mCell\u001b[39m\u001b[36m \u001b[39m\u001b[32mIn[48]\u001b[39m\u001b[32m, line 11\u001b[39m\n\u001b[31m    \u001b[39m\u001b[31mपहले का(कोष्ठक) को तोड़िए, ता पीछे दे भाग  |\u001b[39m\n         ^\n\u001b[31mSyntaxError\u001b[39m\u001b[31m:\u001b[39m invalid syntax\n"
     ]
    }
   ],
   "source": [
    "4*7-4/2+5-1\n",
    "BODMAS\n",
    "Bracket\n",
    "Order(power)\n",
    "Division\n",
    "Multiply\n",
    "Addtition\n",
    "Subtration\n",
    "\n",
    "\n",
    "पहले का(कोष्ठक) को तोड़िए, ता पीछे दे भाग  |\n",
    "गुणा तोड़ धन जोड़िए, ऋण को देव घटाय ||\n",
    "\n"
   ]
  },
  {
   "cell_type": "code",
   "execution_count": null,
   "id": "b36d5f42-256c-4af9-a0d4-402b4190818f",
   "metadata": {},
   "outputs": [
    {
     "data": {
      "text/plain": [
       "11"
      ]
     },
     "execution_count": 13,
     "metadata": {},
     "output_type": "execute_result"
    }
   ],
   "source": [
    "5+6*(2-1)**2\n",
    "=> 5+6*1**2\n",
    "=> 5+6*1\n",
    "=> 5+6"
   ]
  },
  {
   "cell_type": "code",
   "execution_count": null,
   "id": "884d8fb2-ad56-49dd-bd8b-4ba222082c81",
   "metadata": {},
   "outputs": [
    {
     "name": "stdout",
     "output_type": "stream",
     "text": [
      "98.0\n",
      "-65\n",
      "8.5\n",
      "59\n",
      "31.0\n"
     ]
    }
   ],
   "source": [
    "print(4 * (3 + 2) ** 2 - 10 / 5)\n",
    "\n",
    "print(15 - (2 + 3) * 4 ** 2)\n",
    "\n",
    "print(8 + 6 / (2 ** 2) - 1)\n",
    "\n",
    "print((10 - 3) ** 2 + 5 * 2)\n",
    "\n",
    "print(20 / (2 + 3) + (4 - 1) ** 3)"
   ]
  },
  {
   "cell_type": "markdown",
   "id": "893a00a9-e020-4d56-870f-b3e7fd787522",
   "metadata": {},
   "source": [
    "## Conditional Statement"
   ]
  },
  {
   "cell_type": "markdown",
   "id": "b157b79c-632d-470e-b5f8-aa44f711288d",
   "metadata": {},
   "source": [
    "### if else"
   ]
  },
  {
   "cell_type": "code",
   "execution_count": null,
   "id": "1b0c0e6a-ff2c-4b7e-bd05-f484efc17eeb",
   "metadata": {},
   "outputs": [
    {
     "name": "stdout",
     "output_type": "stream",
     "text": [
      "Enter Rain status:(yes,no or y ,n) sdfse\n"
     ]
    },
    {
     "name": "stdout",
     "output_type": "stream",
     "text": [
      "Bhag jao School me\n"
     ]
    }
   ],
   "source": [
    "isRaining = input(\"Enter Rain status:(yes,no or y ,n)\").lower()\n",
    "if isRaining == \"yes\" or isRaining == \"y\":\n",
    "    print(\"School ki chuttiiiiiii\")\n",
    "else:\n",
    "    print(\"Bhag jao School me\")\n",
    "    "
   ]
  },
  {
   "cell_type": "markdown",
   "id": "10e4767b-98b4-43d4-97da-dce51ada747a",
   "metadata": {},
   "source": [
    "## if elif else"
   ]
  },
  {
   "cell_type": "markdown",
   "id": "488044e7-5900-449c-b7cb-970eab8971ea",
   "metadata": {},
   "source": [
    "![](img/passCondition.png)"
   ]
  },
  {
   "cell_type": "code",
   "execution_count": null,
   "id": "8debe835-0f61-45fa-a72d-462ab200a483",
   "metadata": {},
   "outputs": [
    {
     "name": "stdout",
     "output_type": "stream",
     "text": [
      "Enter Your percentage:  345\n"
     ]
    },
    {
     "name": "stdout",
     "output_type": "stream",
     "text": [
      "Your grade is S\n"
     ]
    }
   ],
   "source": [
    "ptg = int(input(\"Enter Your percentage: \"))\n",
    "grade = \"\"\n",
    "if ptg>=85:\n",
    "    grade = \"S\"\n",
    "elif ptg>=75 and ptg<85:\n",
    "    grade = \"A\"\n",
    "elif ptg>=65 and ptg<75:\n",
    "    grade = \"B\"\n",
    "elif ptg>=55 and ptg<65:\n",
    "    grade = \"C\"\n",
    "elif ptg>=50 and ptg<55:\n",
    "    grade = \"D\"\n",
    "else:\n",
    "    grade = \"F\"\n",
    "print(f\"Your grade is {grade}\")"
   ]
  },
  {
   "cell_type": "markdown",
   "id": "496b7af4-be43-4a83-9548-bb210bfa93bf",
   "metadata": {},
   "source": [
    "### Nested if else"
   ]
  },
  {
   "cell_type": "code",
   "execution_count": null,
   "id": "209e5eef-9844-4e72-aaa5-c7c1aff733ce",
   "metadata": {},
   "outputs": [
    {
     "name": "stdout",
     "output_type": "stream",
     "text": [
      "Hey Kid, Go and Play cricket\n"
     ]
    }
   ],
   "source": [
    "haveVoter = (input(\"HaveID(True/False): \")\n",
    "age = 12\n",
    "if age>=18:\n",
    "    if haveVoter==\"True\":\n",
    "        print(\"Ayiiio welcome ji welcome, You are Eligible\")\n",
    "    else:\n",
    "        print(\"You are adult but you have not Voter ID\")\n",
    "else:\n",
    "    print(\"Hey Kid, Go and Play cricket\")"
   ]
  },
  {
   "cell_type": "markdown",
   "id": "5dc9188f-2686-41cf-9246-bbcc9bd8d8fb",
   "metadata": {},
   "source": [
    "# While Loop"
   ]
  },
  {
   "cell_type": "code",
   "execution_count": 2,
   "id": "daf16c67-7bca-42bd-978f-04277f8977da",
   "metadata": {},
   "outputs": [
    {
     "name": "stdout",
     "output_type": "stream",
     "text": [
      "1\n",
      "2\n",
      "3\n",
      "4\n",
      "5\n",
      "6\n",
      "7\n",
      "8\n",
      "9\n",
      "10\n",
      "10\n",
      "9\n",
      "8\n",
      "7\n",
      "6\n",
      "5\n",
      "4\n",
      "3\n",
      "2\n",
      "1\n",
      "0\n",
      "-1\n",
      "-2\n",
      "-3\n",
      "-4\n",
      "-5\n",
      "-6\n",
      "-7\n",
      "-8\n",
      "-9\n",
      "-10\n"
     ]
    }
   ],
   "source": [
    "#print 1 - 10\n",
    "i = 1 #start point\n",
    "while i<=10:  #condition\n",
    "    print(i)\n",
    "    i+=1 #increment\n",
    "\n",
    "\n",
    "#print 10 - 1\n",
    "k = 10  #start point\n",
    "while k >=-10: #condition\n",
    "    print(k)\n",
    "    k-=1 #decrement"
   ]
  },
  {
   "cell_type": "markdown",
   "id": "39969038-993e-443a-a3df-33a27d3e8cc5",
   "metadata": {},
   "source": [
    "## Repeat number of self time"
   ]
  },
  {
   "cell_type": "markdown",
   "id": "c911dcf1-cf58-4cab-b3d3-5f1576ac8f1e",
   "metadata": {},
   "source": [
    "1 <br>\n",
    "22 <br>\n",
    "333 <br>\n",
    "4444 <br>\n",
    "55555 <br>"
   ]
  },
  {
   "cell_type": "code",
   "execution_count": 19,
   "id": "36390b4e-b0aa-452f-bc31-5bf681972068",
   "metadata": {},
   "outputs": [
    {
     "name": "stdout",
     "output_type": "stream",
     "text": [
      "1\n",
      "22\n",
      "333\n",
      "4444\n",
      "55555\n",
      "666666\n",
      "7777777\n",
      "88888888\n",
      "999999999\n",
      "999999999\n",
      "88888888\n",
      "7777777\n",
      "666666\n",
      "55555\n",
      "4444\n",
      "333\n",
      "22\n",
      "1\n"
     ]
    }
   ],
   "source": [
    "\n",
    "i = 1 \n",
    "while i<10:  \n",
    "    print(str(i)*i)\n",
    "    i+=1 \n",
    "\n",
    "k = 9 \n",
    "while k>0:  \n",
    "    print(str(k)*k)\n",
    "    k-=1 "
   ]
  },
  {
   "cell_type": "code",
   "execution_count": 13,
   "id": "18b65ce0-4e52-4f17-b53e-1c9c7c26830c",
   "metadata": {},
   "outputs": [
    {
     "data": {
      "text/plain": [
       "'Hello Hello Hello Hello Hello Hello Hello Hello '"
      ]
     },
     "execution_count": 13,
     "metadata": {},
     "output_type": "execute_result"
    }
   ],
   "source": [
    "'Hello '*8"
   ]
  },
  {
   "cell_type": "code",
   "execution_count": 15,
   "id": "c41e95ca-63c1-485a-97c0-3525aabc02f1",
   "metadata": {},
   "outputs": [
    {
     "data": {
      "text/plain": [
       "'22'"
      ]
     },
     "execution_count": 15,
     "metadata": {},
     "output_type": "execute_result"
    }
   ],
   "source": [
    "\"2\"*2"
   ]
  },
  {
   "cell_type": "markdown",
   "id": "6d41e65a-bb34-4f0e-bd39-779cc4926ee4",
   "metadata": {},
   "source": [
    "# Program to find sum of n natural number (page 156)"
   ]
  },
  {
   "cell_type": "code",
   "execution_count": null,
   "id": "7d38dfc1-fa12-47d2-82ef-5addcdfa22ba",
   "metadata": {},
   "outputs": [],
   "source": [
    "15\n",
    "1+2+3........+15\n",
    "3"
   ]
  },
  {
   "cell_type": "code",
   "execution_count": 20,
   "id": "80a753ec-2bb3-455b-b94b-e19e39366814",
   "metadata": {},
   "outputs": [
    {
     "ename": "_IncompleteInputError",
     "evalue": "incomplete input (4174209489.py, line 2)",
     "output_type": "error",
     "traceback": [
      "  \u001b[36mCell\u001b[39m\u001b[36m \u001b[39m\u001b[32mIn[20]\u001b[39m\u001b[32m, line 2\u001b[39m\n\u001b[31m    \u001b[39m\u001b[31mwhile i <= 15:\u001b[39m\n                  ^\n\u001b[31m_IncompleteInputError\u001b[39m\u001b[31m:\u001b[39m incomplete input\n"
     ]
    }
   ],
   "source": [
    "i = 1\n",
    "total = 0\n",
    "while i <= 15:\n",
    "    total = total+i"
   ]
  },
  {
   "cell_type": "markdown",
   "id": "526bc442-4299-483f-bddb-d08f8a123de8",
   "metadata": {},
   "source": [
    "## Pass, Break, Continue"
   ]
  },
  {
   "cell_type": "code",
   "execution_count": 3,
   "id": "dd69daed-0474-48d8-ae38-648589d9799e",
   "metadata": {},
   "outputs": [
    {
     "name": "stdout",
     "output_type": "stream",
     "text": [
      "---------------------------\n",
      "1\n",
      "2\n",
      "4\n",
      "5\n",
      "---------------------------\n",
      "B\n"
     ]
    }
   ],
   "source": [
    "i = 2\n",
    "while i<=50:\n",
    "    #print(i)\n",
    "    if i==10:\n",
    "        break\n",
    "    i+=2\n",
    "\n",
    "print(\"---------------------------\")\n",
    "k= 1\n",
    "while k <= 5:\n",
    "    if k==3:\n",
    "        k+=1\n",
    "        continue\n",
    "    else:\n",
    "        print(k) \n",
    "        k+=1\n",
    "print(\"---------------------------\")\n",
    "\n",
    "        \n",
    "\n",
    "a = 5\n",
    "if a ==4:\n",
    "    pass\n",
    "else:\n",
    "    print(\"B\")\n"
   ]
  },
  {
   "cell_type": "markdown",
   "id": "f3170593-f27e-4260-9ea5-b995b68c5b32",
   "metadata": {},
   "source": [
    "## While loop  with else"
   ]
  },
  {
   "cell_type": "code",
   "execution_count": 11,
   "id": "7959eafa-ba96-4521-b654-ef6eccbbfac3",
   "metadata": {},
   "outputs": [
    {
     "name": "stdout",
     "output_type": "stream",
     "text": [
      "1\n",
      "2\n",
      "3\n",
      "4\n",
      "5\n",
      "All Iterations completed\n"
     ]
    }
   ],
   "source": [
    "a = 1\n",
    "while a<=5:\n",
    "    print(a)\n",
    "    a+=1\n",
    "    if a==7:\n",
    "        print(\"Mujhe forefully break kiya\")\n",
    "        break\n",
    "else:\n",
    "    print(\"All Iterations completed\")"
   ]
  },
  {
   "cell_type": "code",
   "execution_count": 16,
   "id": "6b79f9c8-38c3-4f86-bd80-27b6c9f42387",
   "metadata": {},
   "outputs": [
    {
     "name": "stdout",
     "output_type": "stream",
     "text": [
      "Not Prime\n"
     ]
    }
   ],
   "source": [
    "num = 32\n",
    "a = 2\n",
    "while a<num: #2-10\n",
    "    if num%a==0:\n",
    "        print(\"Not Prime\")\n",
    "        break\n",
    "    a+=1\n",
    "else:\n",
    "    print(\"Prime\")"
   ]
  }
 ],
 "metadata": {
  "kernelspec": {
   "display_name": "Python 3 (ipykernel)",
   "language": "python",
   "name": "python3"
  },
  "language_info": {
   "codemirror_mode": {
    "name": "ipython",
    "version": 3
   },
   "file_extension": ".py",
   "mimetype": "text/x-python",
   "name": "python",
   "nbconvert_exporter": "python",
   "pygments_lexer": "ipython3",
   "version": "3.14.0"
  }
 },
 "nbformat": 4,
 "nbformat_minor": 5
}
