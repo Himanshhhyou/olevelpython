{
 "cells": [
  {
   "cell_type": "markdown",
   "id": "b3e97490-61ec-4de4-bb47-909d5579c1c4",
   "metadata": {},
   "source": [
    "# Table of contents\n",
    "\n",
    "1. **[List](#List)**"
   ]
  },
  {
   "cell_type": "markdown",
   "id": "1d9f90c8-2358-4edc-9629-c349e4c03562",
   "metadata": {},
   "source": [
    "## List"
   ]
  },
  {
   "cell_type": "code",
   "execution_count": 1,
   "id": "ab1a8c5a-a444-491a-9d37-76e1f03d63b9",
   "metadata": {},
   "outputs": [
    {
     "ename": "SyntaxError",
     "evalue": "invalid syntax (2862019757.py, line 1)",
     "output_type": "error",
     "traceback": [
      "  \u001b[36mCell\u001b[39m\u001b[36m \u001b[39m\u001b[32mIn[1]\u001b[39m\u001b[32m, line 1\u001b[39m\n\u001b[31m    \u001b[39m\u001b[31m- Store multiple values\u001b[39m\n            ^\n\u001b[31mSyntaxError\u001b[39m\u001b[31m:\u001b[39m invalid syntax\n"
     ]
    }
   ],
   "source": [
    "- Store multiple values\n",
    "- Ordered\n",
    "- Indexing Possible"
   ]
  },
  {
   "cell_type": "markdown",
   "id": "b833805d-532b-4a07-9ea2-b5164f2c6541",
   "metadata": {},
   "source": [
    "**Immutable -int, float, bool, string**\n"
   ]
  },
  {
   "cell_type": "code",
   "execution_count": 17,
   "id": "4f7a8fb3-2935-4a73-bf80-13c1dfaccf92",
   "metadata": {},
   "outputs": [
    {
     "name": "stdout",
     "output_type": "stream",
     "text": [
      "Hello 2463990459120\n",
      "chalo 2463990458880\n",
      "world 2463990499632\n"
     ]
    }
   ],
   "source": [
    "a = \"Hello\"\n",
    "print(a,id(a))\n",
    "\n",
    "a = \"chalo\"\n",
    "print(a,id(a))\n",
    "\n",
    "a = \"world\"\n",
    "print(a,id(a))"
   ]
  },
  {
   "cell_type": "code",
   "execution_count": 28,
   "id": "de8074c8-33e1-465d-b485-8e73412eeb0e",
   "metadata": {},
   "outputs": [
    {
     "name": "stdout",
     "output_type": "stream",
     "text": [
      "{'coding': True, 'typing': True}\n"
     ]
    }
   ],
   "source": [
    "person = {\n",
    "  \n",
    "  \"name\": \"Ram Kumar\",\n",
    "  \"age\": 31,\n",
    "  \"email\": \"ram.pythondev@example.com\",\n",
    "  \"city\": \"Bangalore\",\n",
    "  \"profession\": \"Python Developer\",\n",
    "  \"skills\": {\n",
    "      \"coding\" : True,\n",
    "      \"typing\": False,\n",
    "  },\n",
    "  \"experience_years\": 8,\n",
    "  \"favourite_editor\": \"VS Code\",\n",
    "  \"current_project\": \"AI Chatbot using FastAPI\",\n",
    "  \"favourite_quote\": \"Simple is better than complex.\"\n",
    "\n",
    "}\n",
    "person[\"skills\"]['typing'] = True\n",
    "print(person[\"skills\"])"
   ]
  },
  {
   "cell_type": "code",
   "execution_count": 34,
   "id": "d0895942-c8dd-4406-b093-56dbfcdc0455",
   "metadata": {},
   "outputs": [
    {
     "name": "stdout",
     "output_type": "stream",
     "text": [
      "5\n",
      "140719805998296\n",
      "140719805998328\n"
     ]
    }
   ],
   "source": [
    "a = 5\n",
    "b = 5\n",
    "\n",
    "print(b)\n",
    "print(id(a))\n",
    "print(id(b))"
   ]
  }
 ],
 "metadata": {
  "kernelspec": {
   "display_name": "Python 3",
   "language": "python",
   "name": "python3"
  },
  "language_info": {
   "codemirror_mode": {
    "name": "ipython",
    "version": 3
   },
   "file_extension": ".py",
   "mimetype": "text/x-python",
   "name": "python",
   "nbconvert_exporter": "python",
   "pygments_lexer": "ipython3",
   "version": "3.14.0"
  }
 },
 "nbformat": 4,
 "nbformat_minor": 5
}
