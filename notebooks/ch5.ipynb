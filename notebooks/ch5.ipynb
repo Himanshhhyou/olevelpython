{
 "cells": [
  {
   "cell_type": "markdown",
   "id": "b3e97490-61ec-4de4-bb47-909d5579c1c4",
   "metadata": {},
   "source": [
    "# Table of contents\n",
    "\n",
    "1. **[List](#List)**"
   ]
  },
  {
   "cell_type": "markdown",
   "id": "1d9f90c8-2358-4edc-9629-c349e4c03562",
   "metadata": {},
   "source": [
    "## List"
   ]
  },
  {
   "cell_type": "code",
   "execution_count": null,
   "id": "ab1a8c5a-a444-491a-9d37-76e1f03d63b9",
   "metadata": {},
   "outputs": [],
   "source": [
    "- Store multiple values\n",
    "- Ordered\n",
    "- Indexing Possible"
   ]
  },
  {
   "cell_type": "markdown",
   "id": "b833805d-532b-4a07-9ea2-b5164f2c6541",
   "metadata": {},
   "source": [
    "**Immutable -int, float, bool, string**\n"
   ]
  },
  {
   "cell_type": "code",
   "execution_count": null,
   "id": "4f7a8fb3-2935-4a73-bf80-13c1dfaccf92",
   "metadata": {},
   "outputs": [],
   "source": [
    "a = \"Hello\"\n",
    "print(a,id(a))\n",
    "\n",
    "a = \"chalo\"\n",
    "print(a,id(a))\n",
    "\n",
    "a = \"world\"\n",
    "print(a,id(a))"
   ]
  },
  {
   "cell_type": "code",
   "execution_count": null,
   "id": "de8074c8-33e1-465d-b485-8e73412eeb0e",
   "metadata": {},
   "outputs": [],
   "source": [
    "person = {\n",
    "  \n",
    "  \"name\": \"Ram Kumar\",\n",
    "  \"age\": 31,\n",
    "  \"email\": \"ram.pythondev@example.com\",\n",
    "  \"city\": \"Bangalore\",\n",
    "  \"profession\": \"Python Developer\",\n",
    "  \"skills\": {\n",
    "      \"coding\" : True,\n",
    "      \"typing\": False,\n",
    "  },\n",
    "  \"experience_years\": 8,\n",
    "  \"favourite_editor\": \"VS Code\",\n",
    "  \"current_project\": \"AI Chatbot using FastAPI\",\n",
    "  \"favourite_quote\": \"Simple is better than complex.\"\n",
    "\n",
    "}\n",
    "person[\"skills\"]['typing'] = True\n",
    "print(person[\"skills\"])"
   ]
  },
  {
   "cell_type": "code",
   "execution_count": null,
   "id": "d0895942-c8dd-4406-b093-56dbfcdc0455",
   "metadata": {},
   "outputs": [],
   "source": [
    "a = 5\n",
    "b = 5\n",
    "\n",
    "print(b)\n",
    "print(id(a))\n",
    "print(id(b))"
   ]
  },
  {
   "cell_type": "code",
   "execution_count": null,
   "id": "1688db40-34fa-4ad2-9344-c8a56920e344",
   "metadata": {},
   "outputs": [],
   "source": [
    "x = 23.45\n",
    "#print(\"%-09d\"%x)\n",
    "print(\"%06d\"  %x) #digit \n",
    "print(\"%06f\"  %x) #float\n",
    "print(\"%06s\"   %x) #string\n"
   ]
  },
  {
   "cell_type": "code",
   "execution_count": null,
   "id": "0d614c58-3c8c-4f21-af6a-e8e7c1fe23d2",
   "metadata": {},
   "outputs": [],
   "source": [
    "x = 23.45\n",
    "#print(\"%-09d\"%x)\n",
    "print(\"%06d\"  %x) #digit \n",
    "print(\"%06f\"  %x) #float\n",
    "print(\"%06s\"   %x) #string\n"
   ]
  },
  {
   "cell_type": "markdown",
   "id": "8dd87249-9861-4399-a9a1-bd141e61ee8f",
   "metadata": {},
   "source": [
    "# Quetion 43 and 48 From ch3"
   ]
  },
  {
   "cell_type": "code",
   "execution_count": null,
   "id": "d50bb398-c6cf-44fb-a15d-492ddaf02f71",
   "metadata": {},
   "outputs": [],
   "source": [
    "## The main properties of LISTs"
   ]
  },
  {
   "cell_type": "markdown",
   "id": "bd71a51a-08e2-467e-9b3f-692f0adfa231",
   "metadata": {},
   "source": [
    "#insertion order\n",
    "a  = [5,6,7]\n",
    "print(\"a = \", a)\n",
    "\n",
    "#duplicate values are allowed\n",
    "b = [5,3,5,3,8]\n",
    "print(\"b = \", b)\n",
    "\n",
    "#Heterogeneous items विविधता (अलग-अलग)\n",
    "\n",
    "c = [\"ram\", 8, 47.6, 9+6j, True]\n",
    "print(\"c = \", c)\n",
    "\n",
    "#indexing possible\n",
    "d = [4,6,7,\"RamKrishna\"]\n",
    "print(d[3][3:])\n",
    "# indexing - list\n",
    "#slicing  - string(list item)\n",
    "\n",
    "\n",
    "#slicing list\n",
    "e = [4,5,9,1]\n",
    "print(e[1:])"
   ]
  },
  {
   "cell_type": "markdown",
   "id": "ae1bfc03-64b8-4490-b856-6472d7dcb8ba",
   "metadata": {},
   "source": [
    "## list update functions"
   ]
  },
  {
   "cell_type": "markdown",
   "id": "76078887-b0a9-479e-b6eb-cd4430647d43",
   "metadata": {},
   "source": [
    "### Append, extend"
   ]
  },
  {
   "cell_type": "code",
   "execution_count": null,
   "id": "090fe276-bf66-4a26-a97c-aa155a8c3303",
   "metadata": {},
   "outputs": [],
   "source": [
    "fruits = ['Apple','Banana','Kiwi']\n",
    "fruits.append('papaya')\n",
    "fruits.append('mango') #for one item addition \n",
    "\n",
    "fruits.extend(['guvava', 'lemon','grapes'])  #add many items\n",
    "print(fruits)"
   ]
  },
  {
   "cell_type": "markdown",
   "id": "9c3e3795-fe9b-4fca-bed3-5c71926a9578",
   "metadata": {},
   "source": [
    "### insert"
   ]
  },
  {
   "cell_type": "code",
   "execution_count": null,
   "id": "b3d13612-c74f-4450-8b38-67a7e7a7439d",
   "metadata": {},
   "outputs": [],
   "source": [
    "vegs = ['potato','tomato']\n",
    "vegs.insert(1,'Coriander')\n",
    "print(vegs)"
   ]
  },
  {
   "cell_type": "markdown",
   "id": "b22deac9-3afb-4bdc-a672-b97e748a0fcc",
   "metadata": {},
   "source": [
    "### Remove"
   ]
  },
  {
   "cell_type": "code",
   "execution_count": null,
   "id": "7a96b2da-9b90-4507-b3ba-688b3f63111a",
   "metadata": {},
   "outputs": [],
   "source": [
    "phones = ['oppo','vivo','micromax','xiaomi']\n",
    "phones.remove('micromax')\n",
    "print(phones)"
   ]
  },
  {
   "cell_type": "code",
   "execution_count": 26,
   "id": "2aeb4064-5251-4b76-a766-2102ce393032",
   "metadata": {},
   "outputs": [
    {
     "name": "stdout",
     "output_type": "stream",
     "text": [
      "['dell', 'acer', 'nokia', 'mango']\n"
     ]
    }
   ],
   "source": [
    "laptop =['hp','dell','acer','nokia','mango']\n",
    "laptop.pop(0) #remove last item, index (-1)\n",
    "#if give index then remove index item\n",
    "print(laptop)"
   ]
  },
  {
   "cell_type": "code",
   "execution_count": null,
   "id": "74f15ab0-dc08-4eb8-b29c-6de6c0c4981d",
   "metadata": {},
   "outputs": [],
   "source": [
    "laptop.clear()\n",
    "print(laptop)"
   ]
  },
  {
   "cell_type": "code",
   "execution_count": null,
   "id": "2cd54578-289c-4e43-b767-62c71a33fb31",
   "metadata": {},
   "outputs": [],
   "source": [
    "del laptop\n",
    "print(laptop)"
   ]
  },
  {
   "cell_type": "code",
   "execution_count": null,
   "id": "d5577d85-142a-40c8-a2c1-ebbbd35b90e6",
   "metadata": {},
   "outputs": [],
   "source": [
    "## Grocery Billing system"
   ]
  },
  {
   "cell_type": "code",
   "execution_count": null,
   "id": "c8787b81-2d77-467b-afc7-2a5cf20aec94",
   "metadata": {},
   "outputs": [],
   "source": [
    "numOfItems = int(input(\"How many different items you want to buy: \"))\n",
    "items = []\n",
    "qtys = []\n",
    "prices=[]\n",
    "for i in range(1,numOfItems+1):\n",
    "    print(f\"Enter Item {i} detail\")\n",
    "    itemName = input(\"Item Name: \").lower()\n",
    "    items.append(itemName)\n",
    "    qty =  float(input(\"Enter Qty: \"))\n",
    "    qtys.append(qty)\n",
    "    price =  float(input(\"Enter price: \"))\n",
    "    prices.append(price)\n",
    "    print(\"======Added successfully======\")\n",
    "print(\"Item    Qty    Price    Total\")\n",
    "print(\"------------------------------\")\n",
    "\n",
    "i = items[0]\n",
    "q = qtys[0]\n",
    "p = prices[0]\n",
    "print(f\"{i}    {q}    {p}    {q*p}\")"
   ]
  }
 ],
 "metadata": {
  "kernelspec": {
   "display_name": "Python 3 (ipykernel)",
   "language": "python",
   "name": "python3"
  },
  "language_info": {
   "codemirror_mode": {
    "name": "ipython",
    "version": 3
   },
   "file_extension": ".py",
   "mimetype": "text/x-python",
   "name": "python",
   "nbconvert_exporter": "python",
   "pygments_lexer": "ipython3",
   "version": "3.14.0"
  }
 },
 "nbformat": 4,
 "nbformat_minor": 5
}
