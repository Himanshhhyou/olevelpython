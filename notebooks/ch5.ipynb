{
 "cells": [
  {
   "cell_type": "markdown",
   "id": "b3e97490-61ec-4de4-bb47-909d5579c1c4",
   "metadata": {},
   "source": [
    "# Table of contents\n",
    "\n",
    "1. **[List](#List)**"
   ]
  },
  {
   "cell_type": "markdown",
   "id": "1d9f90c8-2358-4edc-9629-c349e4c03562",
   "metadata": {},
   "source": [
    "## List"
   ]
  },
  {
   "cell_type": "code",
   "execution_count": null,
   "id": "ab1a8c5a-a444-491a-9d37-76e1f03d63b9",
   "metadata": {},
   "outputs": [],
   "source": [
    "- Store multiple values\n",
    "- Ordered\n",
    "- Indexing Possible"
   ]
  },
  {
   "cell_type": "markdown",
   "id": "b833805d-532b-4a07-9ea2-b5164f2c6541",
   "metadata": {},
   "source": [
    "**Immutable -int, float, bool, string**\n"
   ]
  },
  {
   "cell_type": "code",
   "execution_count": null,
   "id": "4f7a8fb3-2935-4a73-bf80-13c1dfaccf92",
   "metadata": {},
   "outputs": [],
   "source": [
    "a = \"Hello\"\n",
    "print(a,id(a))\n",
    "\n",
    "a = \"chalo\"\n",
    "print(a,id(a))\n",
    "\n",
    "a = \"world\"\n",
    "print(a,id(a))"
   ]
  },
  {
   "cell_type": "code",
   "execution_count": null,
   "id": "de8074c8-33e1-465d-b485-8e73412eeb0e",
   "metadata": {},
   "outputs": [],
   "source": [
    "person = {\n",
    "  \n",
    "  \"name\": \"Ram Kumar\",\n",
    "  \"age\": 31,\n",
    "  \"email\": \"ram.pythondev@example.com\",\n",
    "  \"city\": \"Bangalore\",\n",
    "  \"profession\": \"Python Developer\",\n",
    "  \"skills\": {\n",
    "      \"coding\" : True,\n",
    "      \"typing\": False,\n",
    "  },\n",
    "  \"experience_years\": 8,\n",
    "  \"favourite_editor\": \"VS Code\",\n",
    "  \"current_project\": \"AI Chatbot using FastAPI\",\n",
    "  \"favourite_quote\": \"Simple is better than complex.\"\n",
    "\n",
    "}\n",
    "person[\"skills\"]['typing'] = True\n",
    "print(person[\"skills\"])"
   ]
  },
  {
   "cell_type": "code",
   "execution_count": null,
   "id": "d0895942-c8dd-4406-b093-56dbfcdc0455",
   "metadata": {},
   "outputs": [],
   "source": [
    "a = 5\n",
    "b = 5\n",
    "\n",
    "print(b)\n",
    "print(id(a))\n",
    "print(id(b))"
   ]
  },
  {
   "cell_type": "code",
   "execution_count": null,
   "id": "1688db40-34fa-4ad2-9344-c8a56920e344",
   "metadata": {},
   "outputs": [],
   "source": [
    "x = 23.45\n",
    "#print(\"%-09d\"%x)\n",
    "print(\"%06d\"  %x) #digit \n",
    "print(\"%06f\"  %x) #float\n",
    "print(\"%06s\"   %x) #string\n"
   ]
  },
  {
   "cell_type": "code",
   "execution_count": null,
   "id": "0d614c58-3c8c-4f21-af6a-e8e7c1fe23d2",
   "metadata": {},
   "outputs": [],
   "source": [
    "x = 23.45\n",
    "#print(\"%-09d\"%x)\n",
    "print(\"%06d\"  %x) #digit \n",
    "print(\"%06f\"  %x) #float\n",
    "print(\"%06s\"   %x) #string\n"
   ]
  },
  {
   "cell_type": "markdown",
   "id": "8dd87249-9861-4399-a9a1-bd141e61ee8f",
   "metadata": {},
   "source": [
    "# Quetion 43 and 48 From ch3"
   ]
  },
  {
   "cell_type": "code",
   "execution_count": 63,
   "id": "d50bb398-c6cf-44fb-a15d-492ddaf02f71",
   "metadata": {},
   "outputs": [],
   "source": [
    "## The main properties of LISTs"
   ]
  },
  {
   "cell_type": "code",
   "execution_count": 84,
   "id": "a7abc533-ed33-4749-84c5-d2c94e5725f4",
   "metadata": {},
   "outputs": [
    {
     "name": "stdout",
     "output_type": "stream",
     "text": [
      "a =  [5, 6, 7]\n",
      "b =  [5, 3, 5, 3, 8]\n",
      "c =  ['ram', 8, 47.6, (9+6j), True]\n",
      "Krishna\n",
      "[5, 9, 1]\n"
     ]
    }
   ],
   "source": [
    "#insertion order\n",
    "a  = [5,6,7]\n",
    "print(\"a = \", a)\n",
    "\n",
    "#duplicate values are allowed\n",
    "b = [5,3,5,3,8]\n",
    "print(\"b = \", b)\n",
    "\n",
    "#Heterogeneous items विविधता (अलग-अलग)\n",
    "\n",
    "c = [\"ram\", 8, 47.6, 9+6j, True]\n",
    "print(\"c = \", c)\n",
    "\n",
    "#indexing possible\n",
    "d = [4,6,7,\"RamKrishna\"]\n",
    "print(d[3][3:])\n",
    "# indexing - list\n",
    "#slicing  - string(list item)\n",
    "\n",
    "\n",
    "#slicing list\n",
    "e = [4,5,9,1]\n",
    "print(e[1:])"
   ]
  }
 ],
 "metadata": {
  "kernelspec": {
   "display_name": "Python 3 (ipykernel)",
   "language": "python",
   "name": "python3"
  },
  "language_info": {
   "codemirror_mode": {
    "name": "ipython",
    "version": 3
   },
   "file_extension": ".py",
   "mimetype": "text/x-python",
   "name": "python",
   "nbconvert_exporter": "python",
   "pygments_lexer": "ipython3",
   "version": "3.14.0"
  }
 },
 "nbformat": 4,
 "nbformat_minor": 5
}
